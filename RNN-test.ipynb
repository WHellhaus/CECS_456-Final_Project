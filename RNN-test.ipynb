{
 "cells": [
  {
   "cell_type": "markdown",
   "metadata": {},
   "source": [
    "# RNN Test"
   ]
  },
  {
   "cell_type": "markdown",
   "metadata": {},
   "source": [
    "### Preprocess\n",
    "\n",
    "Setting up data to be used in RNN (turning moves into list of numbers from dictionary mapping)"
   ]
  },
  {
   "cell_type": "code",
   "execution_count": 19,
   "metadata": {},
   "outputs": [
    {
     "name": "stdout",
     "output_type": "stream",
     "text": [
      "[113, 78, 132, 3, 76, 70, 66, 142]\n"
     ]
    }
   ],
   "source": [
    "import pandas as pd\n",
    "import numpy as np\n",
    "from nltk.tokenize import word_tokenize\n",
    "from nltk.probability import FreqDist\n",
    "from sklearn.model_selection import train_test_split \n",
    "\n",
    "def MostCommonWords(data):\n",
    "    data_dist = FreqDist(data)\n",
    "    return data_dist\n",
    "\n",
    "def processGames(games, truncate_ply, opening_cats):\n",
    "    data = [games['moves'], games['opening_eco']]\n",
    "    ply = games['opening_ply']\n",
    "    headers = ['moves', 'opening']\n",
    "    data = pd.concat(data, axis=1, keys=headers)\n",
    "    maxPly = 14\n",
    "\n",
    "    for index, row in data.iterrows():\n",
    "        row['opening'] = opening_cats[row['opening'][0]]\n",
    "        ply[index] = ply[index]+1 if (ply[index] % 2 != 0) else ply[index]\n",
    "        moveCount = 0\n",
    "        moves = word_tokenize(row['moves'])\n",
    "        formattedMoves = []\n",
    "        for move in moves:\n",
    "            if(truncate_ply): \n",
    "                if (moveCount >= (ply[index])):\n",
    "                    break\n",
    "            elif (moveCount >= maxPly):\n",
    "                break\n",
    "            if(moveCount%2==0):\n",
    "                # uncomment this top line to use moveCount number in the moves list i.e. 1. d4 e5, 2. ...\n",
    "                # formattedMoves.append(str(int(moveCount/2)+1) + '.' + str(move))\n",
    "                formattedMoves.append(str(move))\n",
    "            else:\n",
    "                formattedMoves[int(moveCount/2)] += ' ' + str(move)\n",
    "            moveCount += 1\n",
    "        row['moves'] = formattedMoves\n",
    "        # use this instead of the formattedMoves list to seperate moves by single ply\n",
    "#         row['moves'] = moves\n",
    "\n",
    "    mcw = []\n",
    "    for key in opening_cats:\n",
    "        rows = data.loc[data['opening'] == opening_cats[key]]\n",
    "        # print(key, rows)\n",
    "        moves = []\n",
    "        for index, row in rows.iterrows():\n",
    "            moves += row['moves']\n",
    "        mcw.append(MostCommonWords(moves))\n",
    "    return data, mcw\n",
    "\n",
    "to_exclude = [i for i in range(2, 19800)]# specifies the amount of data to load in (leave list empty to load all data)\n",
    "games = pd.read_csv('games.csv', header=0, encoding='latin-1', skiprows=to_exclude)\n",
    "opening_cats = {'A': 0, 'B': 1, 'C': 2, 'D': 3, 'E': 4}\n",
    "labels = []\n",
    "for index, row in games.iterrows():\n",
    "    labels.append(opening_cats[row['opening_eco'][0]])\n",
    "games = pd.concat([games, pd.DataFrame({'label': labels})], axis=1)\n",
    "headers = list(games.columns.values)\n",
    "\n",
    "X_train, X_test, y_train, y_test = train_test_split(games.to_numpy(), labels, test_size=0.33)\n",
    "X_train = pd.DataFrame(data=X_train, columns=headers)\n",
    "X_test = pd.DataFrame(data=X_test, columns=headers)\n",
    "\n",
    "games, mcw = processGames(X_train, True, opening_cats)\n",
    "test, mcw_test = processGames(X_test, False, opening_cats)\n",
    "\n",
    "dictionary = set()\n",
    "for frqdist in mcw:\n",
    "    dictionary = dictionary.union(set(frqdist.keys()))\n",
    "    \n",
    "move2id = {}\n",
    "moveCounter = 1\n",
    "for move in dictionary:\n",
    "    move2id[move] = moveCounter\n",
    "    moveCounter += 1\n",
    "\n",
    "for index, row in games.iterrows():\n",
    "    move_ids = []\n",
    "    for move in row['moves']:\n",
    "        move_ids.append(move2id[move])\n",
    "    row['moves'] = move_ids\n",
    "\n",
    "print(games.iloc[0]['moves'])"
   ]
  },
  {
   "cell_type": "code",
   "execution_count": null,
   "metadata": {},
   "outputs": [],
   "source": []
  },
  {
   "cell_type": "code",
   "execution_count": null,
   "metadata": {},
   "outputs": [],
   "source": []
  }
 ],
 "metadata": {
  "kernelspec": {
   "display_name": "Python 3",
   "language": "python",
   "name": "python3"
  },
  "language_info": {
   "codemirror_mode": {
    "name": "ipython",
    "version": 3
   },
   "file_extension": ".py",
   "mimetype": "text/x-python",
   "name": "python",
   "nbconvert_exporter": "python",
   "pygments_lexer": "ipython3",
   "version": "3.7.9"
  }
 },
 "nbformat": 4,
 "nbformat_minor": 4
}
