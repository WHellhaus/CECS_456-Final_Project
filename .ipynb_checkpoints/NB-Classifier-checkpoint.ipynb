{
 "cells": [
  {
   "cell_type": "markdown",
   "metadata": {},
   "source": [
    "# Naive Bayes Classifier for Chess Openings"
   ]
  },
  {
   "cell_type": "markdown",
   "metadata": {},
   "source": [
    "## Model Code:"
   ]
  },
  {
   "cell_type": "code",
   "execution_count": 2,
   "metadata": {},
   "outputs": [],
   "source": [
    "import pandas as pd\n",
    "import numpy as np\n",
    "\n",
    "from nltk.tokenize import word_tokenize\n",
    "from nltk.probability import FreqDist\n",
    "import matplotlib.pyplot as plt\n",
    "from sklearn.model_selection import train_test_split\n",
    "\n",
    "import time\n",
    "\n",
    "opening_cats = {'A00-A39': 0, 'A40-A44': 1, 'A45-A49': 2, 'A50-A79': 3, 'A80-A99': 4, \n",
    "    'B00-B19': 5, 'B20-B99': 6, 'C00-C19': 7, 'C20-C99': 8, 'D00-D69': 9, 'D70-D99': 10, 'E00-E59': 11, 'E60-E99': 12}\n",
    "\n",
    "def LoadData(num_to_exclude, truncate_ply, move_tokenizer):\n",
    "    to_exclude = [i for i in range(1, num_to_exclude)]# specifies the amount of data to load in (leave list empty to load all data)\n",
    "    games = pd.read_csv('games.csv', header=0, encoding='latin-1', skiprows=to_exclude)\n",
    "    labels = []\n",
    "    for index, row in games.iterrows():\n",
    "        opening_num = int(row['opening_eco'][1:])\n",
    "        if (row['opening_eco'][0] == 'A'):\n",
    "            if(opening_num <= 39):\n",
    "                labels.append(0)\n",
    "            elif(opening_num <= 44):\n",
    "                labels.append(1)\n",
    "            elif(opening_num <= 49):\n",
    "                labels.append(2)\n",
    "            elif(opening_num <= 79):\n",
    "                labels.append(3)\n",
    "            else:\n",
    "                labels.append(4)\n",
    "        elif (row['opening_eco'][0] == 'B'):\n",
    "            if(opening_num <= 19):\n",
    "                labels.append(5)\n",
    "            else:\n",
    "                labels.append(6)\n",
    "        elif (row['opening_eco'][0] == 'C'):\n",
    "            if(opening_num <= 19):\n",
    "                labels.append(7)\n",
    "            else:\n",
    "                labels.append(8)\n",
    "        elif (row['opening_eco'][0] == 'D'):\n",
    "            if(opening_num <= 69):\n",
    "                labels.append(9)\n",
    "            else:\n",
    "                labels.append(10)\n",
    "        else:\n",
    "            if(opening_num <= 59):\n",
    "                labels.append(11)\n",
    "            else:\n",
    "                labels.append(12)\n",
    "                \n",
    "    games = pd.concat([games, pd.DataFrame({'label': labels})], axis=1)\n",
    "    headers = list(games.columns.values)\n",
    "\n",
    "    X_train, X_test, y_train, y_test = train_test_split(games.to_numpy(), labels, test_size=0.2)\n",
    "    X_train = pd.DataFrame(data=X_train, columns=headers)\n",
    "    X_test = pd.DataFrame(data=X_test, columns=headers)\n",
    "\n",
    "    # dictionary for how to tokenize moves into a list\n",
    "    # by ply: split by  each move of white or black\n",
    "    # by turn: split by each turn i.e. one white move and one black move\n",
    "    # by turn with number: split by turn and add the number of the turn to the beginning of the string (psuedo-dependency)\n",
    "    move_tokenizer_options = {'by ply': 0, 'by turn': 1, 'by turn with number': 2}\n",
    "\n",
    "    games, mcw = processGames(X_train, truncate_ply[0], move_tokenizer_options[move_tokenizer], opening_cats)\n",
    "    test, mcw_test = processGames(X_test, truncate_ply[1], move_tokenizer_options[move_tokenizer], opening_cats)\n",
    "    return games, test, mcw\n",
    "\n",
    "def processGames(games, truncate_ply, move_tokenizer, opening_cats):\n",
    "    data = [games['moves'], games['opening_eco']]\n",
    "    ply = games['opening_ply']\n",
    "    labels = games['label']\n",
    "    headers = ['moves', 'opening']\n",
    "    data = pd.concat(data, axis=1, keys=headers)\n",
    "    maxPly = 14\n",
    "\n",
    "    for index, row in data.iterrows():\n",
    "        row['opening'] = labels[index]\n",
    "        ply[index] = ply[index]+1 if (ply[index] % 2 != 0) else ply[index]\n",
    "        moveCount = 0\n",
    "        moves = word_tokenize(row['moves'])\n",
    "\n",
    "        if (move_tokenizer == 0):\n",
    "            if(truncate_ply):\n",
    "                row['moves'] = moves[0:ply[index]+1]\n",
    "            else:\n",
    "                row['moves'] = moves[0:maxPly+1]\n",
    "        else:\n",
    "            formattedMoves = []\n",
    "            for move in moves:\n",
    "                if(truncate_ply): \n",
    "                    if (moveCount >= (ply[index])):\n",
    "                        break\n",
    "                elif (moveCount >= maxPly):\n",
    "                    break\n",
    "\n",
    "                if(move_tokenizer == 1):\n",
    "                    if(moveCount%2==0):\n",
    "                        formattedMoves.append(str(move))\n",
    "                    else:\n",
    "                        formattedMoves[int(moveCount/2)] += ' ' + str(move)\n",
    "                if(move_tokenizer == 2):\n",
    "                    if(moveCount%2==0):\n",
    "                        formattedMoves.append(str(int(moveCount/2)+1) + '.' + str(move))\n",
    "                    else:\n",
    "                        formattedMoves[int(moveCount/2)] += ' ' + str(move)\t\n",
    "\n",
    "                moveCount += 1\n",
    "            row['moves'] = formattedMoves\n",
    "\n",
    "    mcw = []\n",
    "    for key in opening_cats:\n",
    "        rows = data.loc[data['opening'] == opening_cats[key]]\n",
    "        moves = []\n",
    "        for index, row in rows.iterrows():\n",
    "            moves += row['moves']\n",
    "        mcw.append(MostCommonWords(moves))\n",
    "    return data, mcw\n",
    "\n",
    "\n",
    "# This function calculates the requency of words using NLTK\n",
    "# Input: data in string format\n",
    "# Output: data_dist is a data dictionary like NLTK object\n",
    "def MostCommonWords(data):\n",
    "    data_dist = FreqDist(data)\n",
    "    return data_dist\n",
    "\n",
    "def Prob_Word_GivenY(word, train_data, numWords, alpha, y):\n",
    "    sum = 0\n",
    "    count_y = 0\n",
    "    for i, row in train_data.iterrows():\n",
    "        if(row['feature_list'].get(word)):\n",
    "            if(row['opening']==y and row['feature_list'].get(word)>0):\n",
    "                sum += 1\n",
    "                count_y += 1\n",
    "    return (sum + alpha) / (count_y + numWords*alpha)\n",
    "\n",
    "def Classify2(moves, p_category, train_splits, numWords, alpha, categories):\n",
    "    p_cat_given_moves = [x for x in p_category]\n",
    "\n",
    "    for move in moves:\n",
    "        for key, value in categories.items():\n",
    "            p_cat_given_moves[value] *= Prob_Word_GivenY(move, train_splits[value], numWords, alpha, value)\n",
    "    return p_cat_given_moves.index(max(p_cat_given_moves))\n",
    "\n",
    "def Training2(train_data, train_wc, categories, test_data):\n",
    "    training_start_time = time.time()\n",
    "    \n",
    "    dictionary = set()\n",
    "    for frqdist in train_wc:\n",
    "        dictionary = dictionary.union(set(frqdist.keys()))\n",
    "        \n",
    "    alpha = 1\n",
    "    num_words = [len(frqdist) for frqdist in train_wc]\n",
    "\n",
    "    train_data['feature_list'] = \"\"\n",
    "    for i, row in train_data.iterrows():\n",
    "        word_map = {}\n",
    "        for word in dictionary:\n",
    "            word_map[word] = row['moves'].count(word)\n",
    "        row['feature_list'] = word_map\n",
    "\n",
    "    train_splits = []\n",
    "    m = []\n",
    "    for key in categories:\n",
    "        rows = train_data.loc[train_data['opening'] == categories[key]]\n",
    "        m.append(len(rows))\n",
    "        train_splits.append(rows)\n",
    "    p = [(m_cat + 1) / (sum(m) + len(categories)*alpha) for m_cat in m]\n",
    "    \n",
    "    print('Training Time (seconds): ', (time.time() - training_start_time))\n",
    "    \n",
    "    test_start_time = time.time()\n",
    "    correct = 0\n",
    "    shape = np.zeros(shape=(len(categories), len(categories)))\n",
    "    conf_matrix = pd.DataFrame(shape)\n",
    "    for i, row in test_data.iterrows():\n",
    "        prediction = Classify2(row['moves'], p, train_splits, sum(num_words), alpha, categories)\n",
    "        conf_matrix.iat[prediction, row['opening']] += 1\n",
    "        correct += 1 if prediction == row['opening'] else 0\n",
    "        # print(prediction, row['opening'])\n",
    "    print('Testing Time (seconds): ', (time.time() - test_start_time))\n",
    "    print('ACCURACY: ', correct/len(test_data))\n",
    "    print(conf_matrix)"
   ]
  },
  {
   "cell_type": "markdown",
   "metadata": {},
   "source": [
    "## Tests:"
   ]
  },
  {
   "cell_type": "markdown",
   "metadata": {},
   "source": [
    "### 500 Games, training not truncated by opening_ply, separated by ply"
   ]
  },
  {
   "cell_type": "code",
   "execution_count": 15,
   "metadata": {},
   "outputs": [
    {
     "name": "stdout",
     "output_type": "stream",
     "text": [
      "Training Time (seconds):  1.6902530193328857\n",
      "Testing Time (seconds):  53.03750777244568\n",
      "ACCURACY:  0.36607142857142855\n",
      "      0    1    2    3    4     5     6     7     8    9   10   11   12\n",
      "0   0.0  0.0  0.0  0.0  0.0   0.0   0.0   0.0   0.0  0.0  0.0  0.0  0.0\n",
      "1   0.0  0.0  0.0  0.0  0.0   0.0   0.0   0.0   0.0  0.0  0.0  0.0  0.0\n",
      "2   0.0  0.0  0.0  0.0  0.0   0.0   0.0   0.0   0.0  0.0  0.0  0.0  0.0\n",
      "3   0.0  0.0  0.0  0.0  0.0   0.0   0.0   0.0   0.0  0.0  0.0  0.0  0.0\n",
      "4   0.0  0.0  0.0  0.0  0.0   0.0   0.0   0.0   0.0  0.0  0.0  0.0  0.0\n",
      "5   0.0  1.0  0.0  0.0  0.0   0.0   0.0   0.0   0.0  0.0  0.0  0.0  0.0\n",
      "6   2.0  0.0  0.0  2.0  2.0   0.0   5.0   1.0   0.0  0.0  0.0  1.0  0.0\n",
      "7   0.0  0.0  0.0  0.0  0.0   0.0   1.0   0.0   0.0  0.0  0.0  0.0  0.0\n",
      "8   5.0  2.0  0.0  0.0  1.0  13.0  14.0  10.0  28.0  3.0  0.0  0.0  2.0\n",
      "9   2.0  4.0  1.0  0.0  0.0   0.0   0.0   0.0   0.0  8.0  0.0  4.0  0.0\n",
      "10  0.0  0.0  0.0  0.0  0.0   0.0   0.0   0.0   0.0  0.0  0.0  0.0  0.0\n",
      "11  0.0  0.0  0.0  0.0  0.0   0.0   0.0   0.0   0.0  0.0  0.0  0.0  0.0\n",
      "12  0.0  0.0  0.0  0.0  0.0   0.0   0.0   0.0   0.0  0.0  0.0  0.0  0.0\n"
     ]
    }
   ],
   "source": [
    "games, test, mcw = LoadData(19500, [False, False], 'by ply')\n",
    "Training2(games, mcw, opening_cats, test)"
   ]
  },
  {
   "cell_type": "markdown",
   "metadata": {},
   "source": [
    "### 500 Games, training not truncated by opening_ply, separated by turn"
   ]
  },
  {
   "cell_type": "code",
   "execution_count": 16,
   "metadata": {},
   "outputs": [
    {
     "name": "stdout",
     "output_type": "stream",
     "text": [
      "Training Time (seconds):  5.411482095718384\n",
      "Testing Time (seconds):  23.001007080078125\n",
      "ACCURACY:  0.8392857142857143\n",
      "      0    1    2    3    4    5     6     7     8     9   10   11   12\n",
      "0   2.0  0.0  0.0  0.0  0.0  0.0   0.0   0.0   0.0   0.0  0.0  0.0  0.0\n",
      "1   0.0  0.0  0.0  0.0  0.0  0.0   0.0   0.0   0.0   0.0  0.0  0.0  0.0\n",
      "2   0.0  0.0  1.0  0.0  0.0  0.0   0.0   0.0   0.0   0.0  0.0  0.0  0.0\n",
      "3   0.0  0.0  0.0  0.0  0.0  0.0   0.0   0.0   0.0   0.0  0.0  0.0  0.0\n",
      "4   0.0  0.0  0.0  0.0  0.0  0.0   0.0   0.0   0.0   0.0  0.0  0.0  0.0\n",
      "5   1.0  0.0  2.0  0.0  0.0  9.0   0.0   0.0   0.0   0.0  0.0  0.0  1.0\n",
      "6   1.0  0.0  0.0  0.0  0.0  0.0  19.0   0.0   0.0   0.0  0.0  0.0  0.0\n",
      "7   0.0  0.0  0.0  0.0  0.0  0.0   0.0  12.0   0.0   0.0  0.0  0.0  0.0\n",
      "8   0.0  2.0  0.0  0.0  0.0  2.0   0.0   0.0  30.0   0.0  0.0  0.0  0.0\n",
      "9   3.0  4.0  0.0  0.0  0.0  0.0   0.0   0.0   0.0  16.0  1.0  0.0  0.0\n",
      "10  0.0  0.0  0.0  0.0  0.0  0.0   0.0   0.0   0.0   0.0  0.0  0.0  0.0\n",
      "11  0.0  0.0  1.0  0.0  0.0  0.0   0.0   0.0   0.0   0.0  0.0  5.0  0.0\n",
      "12  0.0  0.0  0.0  0.0  0.0  0.0   0.0   0.0   0.0   0.0  0.0  0.0  0.0\n"
     ]
    }
   ],
   "source": [
    "games, test, mcw = LoadData(19500, [False, False], 'by turn')\n",
    "Training2(games, mcw, opening_cats, test)"
   ]
  },
  {
   "cell_type": "markdown",
   "metadata": {},
   "source": [
    "### 500 Games, training not truncated by opening_ply, separated by turn with number"
   ]
  },
  {
   "cell_type": "code",
   "execution_count": 17,
   "metadata": {},
   "outputs": [
    {
     "name": "stdout",
     "output_type": "stream",
     "text": [
      "Training Time (seconds):  8.081760883331299\n",
      "Testing Time (seconds):  22.535916805267334\n",
      "ACCURACY:  0.8571428571428571\n",
      "      0    1    2    3    4     5     6     7     8    9   10   11   12\n",
      "0   3.0  0.0  0.0  0.0  0.0   1.0   0.0   0.0   0.0  1.0  0.0  0.0  0.0\n",
      "1   0.0  1.0  0.0  0.0  0.0   0.0   0.0   0.0   0.0  0.0  0.0  0.0  0.0\n",
      "2   0.0  0.0  4.0  0.0  0.0   0.0   0.0   0.0   0.0  0.0  0.0  0.0  0.0\n",
      "3   0.0  0.0  0.0  0.0  0.0   0.0   0.0   0.0   0.0  0.0  0.0  0.0  0.0\n",
      "4   0.0  0.0  0.0  0.0  2.0   0.0   0.0   0.0   0.0  0.0  0.0  0.0  0.0\n",
      "5   0.0  0.0  0.0  0.0  0.0  12.0   0.0   0.0   0.0  0.0  0.0  0.0  0.0\n",
      "6   0.0  2.0  0.0  0.0  0.0   0.0  19.0   0.0   0.0  1.0  0.0  0.0  0.0\n",
      "7   1.0  2.0  0.0  0.0  0.0   0.0   0.0  10.0   0.0  0.0  0.0  0.0  0.0\n",
      "8   1.0  1.0  0.0  0.0  0.0   0.0   0.0   0.0  29.0  0.0  0.0  0.0  1.0\n",
      "9   0.0  3.0  1.0  0.0  0.0   0.0   0.0   0.0   0.0  7.0  0.0  0.0  0.0\n",
      "10  0.0  0.0  0.0  0.0  0.0   0.0   0.0   0.0   0.0  0.0  0.0  0.0  0.0\n",
      "11  0.0  0.0  0.0  0.0  0.0   0.0   0.0   0.0   0.0  1.0  0.0  5.0  0.0\n",
      "12  0.0  0.0  0.0  0.0  0.0   0.0   0.0   0.0   0.0  0.0  0.0  0.0  4.0\n"
     ]
    }
   ],
   "source": [
    "games, test, mcw = LoadData(19500, [False, False], 'by turn with number')\n",
    "Training2(games, mcw, opening_cats, test)"
   ]
  },
  {
   "cell_type": "markdown",
   "metadata": {},
   "source": [
    "### 1000 Games, training truncated by opening_ply, separated by ply"
   ]
  },
  {
   "cell_type": "code",
   "execution_count": 18,
   "metadata": {},
   "outputs": [
    {
     "name": "stdout",
     "output_type": "stream",
     "text": [
      "Training Time (seconds):  1.5964381694793701\n",
      "Testing Time (seconds):  176.69145584106445\n",
      "ACCURACY:  0.47641509433962265\n",
      "      0    1    2    3    4     5     6     7     8     9   10   11   12\n",
      "0   3.0  0.0  0.0  0.0  0.0   0.0   0.0   0.0   0.0   0.0  0.0  0.0  0.0\n",
      "1   0.0  0.0  0.0  0.0  0.0   0.0   0.0   0.0   0.0   0.0  0.0  0.0  0.0\n",
      "2   0.0  0.0  0.0  0.0  0.0   0.0   0.0   0.0   0.0   0.0  0.0  0.0  0.0\n",
      "3   0.0  0.0  0.0  0.0  0.0   0.0   0.0   0.0   0.0   0.0  0.0  0.0  0.0\n",
      "4   0.0  0.0  0.0  0.0  0.0   0.0   0.0   0.0   0.0   0.0  0.0  0.0  0.0\n",
      "5   0.0  0.0  0.0  0.0  0.0   1.0   0.0   0.0   0.0   0.0  0.0  0.0  0.0\n",
      "6   0.0  1.0  1.0  0.0  0.0   1.0   8.0   4.0   0.0   0.0  0.0  1.0  0.0\n",
      "7   0.0  0.0  0.0  0.0  0.0   0.0   0.0   2.0   0.0   0.0  0.0  0.0  0.0\n",
      "8   8.0  0.0  4.0  0.0  2.0  25.0  18.0  11.0  61.0   3.0  0.0  1.0  3.0\n",
      "9   5.0  8.0  2.0  1.0  1.0   1.0   0.0   0.0   0.0  26.0  1.0  9.0  0.0\n",
      "10  0.0  0.0  0.0  0.0  0.0   0.0   0.0   0.0   0.0   0.0  0.0  0.0  0.0\n",
      "11  0.0  0.0  0.0  0.0  0.0   0.0   0.0   0.0   0.0   0.0  0.0  0.0  0.0\n",
      "12  0.0  0.0  0.0  0.0  0.0   0.0   0.0   0.0   0.0   0.0  0.0  0.0  0.0\n"
     ]
    }
   ],
   "source": [
    "games, test, mcw = LoadData(19000, [True, False], 'by ply')\n",
    "Training2(games, mcw, opening_cats, test)"
   ]
  },
  {
   "cell_type": "markdown",
   "metadata": {},
   "source": [
    "### 1000 Games, training truncated by opening_ply, separated by turn"
   ]
  },
  {
   "cell_type": "code",
   "execution_count": 19,
   "metadata": {},
   "outputs": [
    {
     "name": "stdout",
     "output_type": "stream",
     "text": [
      "Training Time (seconds):  3.7460148334503174\n",
      "Testing Time (seconds):  79.0015549659729\n",
      "ACCURACY:  0.7075471698113207\n",
      "       0    1    2    3    4     5     6     7     8     9   10   11   12\n",
      "0    1.0  0.0  0.0  0.0  0.0   0.0   0.0   0.0   0.0   0.0  0.0  0.0  0.0\n",
      "1    0.0  1.0  0.0  0.0  0.0   0.0   0.0   0.0   0.0   0.0  0.0  0.0  0.0\n",
      "2    0.0  0.0  0.0  0.0  0.0   0.0   0.0   0.0   0.0   0.0  0.0  0.0  0.0\n",
      "3    0.0  0.0  0.0  0.0  0.0   0.0   0.0   0.0   0.0   0.0  0.0  0.0  0.0\n",
      "4    0.0  0.0  0.0  0.0  0.0   0.0   0.0   0.0   0.0   0.0  0.0  0.0  0.0\n",
      "5    4.0  2.0  2.0  1.0  0.0  13.0   0.0   0.0   0.0   0.0  0.0  0.0  0.0\n",
      "6    1.0  0.0  0.0  0.0  0.0   1.0  29.0   0.0   0.0   0.0  0.0  0.0  0.0\n",
      "7    0.0  0.0  0.0  0.0  0.0   0.0   0.0  13.0   0.0   1.0  0.0  0.0  0.0\n",
      "8   10.0  1.0  1.0  0.0  1.0   6.0   0.0   0.0  60.0   0.0  0.0  0.0  0.0\n",
      "9   10.0  9.0  3.0  0.0  2.0   1.0   0.0   1.0   0.0  23.0  0.0  2.0  0.0\n",
      "10   0.0  0.0  0.0  0.0  0.0   0.0   0.0   0.0   0.0   0.0  0.0  0.0  0.0\n",
      "11   0.0  1.0  0.0  0.0  0.0   0.0   0.0   0.0   0.0   0.0  0.0  6.0  0.0\n",
      "12   1.0  0.0  0.0  0.0  0.0   1.0   0.0   0.0   0.0   0.0  0.0  0.0  4.0\n"
     ]
    }
   ],
   "source": [
    "games, test, mcw = LoadData(19000, [True, False], 'by turn')\n",
    "Training2(games, mcw, opening_cats, test)"
   ]
  },
  {
   "cell_type": "markdown",
   "metadata": {},
   "source": [
    "### 1000 Games, training truncated by opening_ply, separated by turn with number"
   ]
  },
  {
   "cell_type": "code",
   "execution_count": 20,
   "metadata": {},
   "outputs": [
    {
     "name": "stdout",
     "output_type": "stream",
     "text": [
      "Training Time (seconds):  5.49053692817688\n",
      "Testing Time (seconds):  81.03646898269653\n",
      "ACCURACY:  0.8301886792452831\n",
      "      0    1    2    3    4     5     6     7     8     9   10   11   12\n",
      "0   7.0  0.0  0.0  0.0  0.0   0.0   0.0   0.0   0.0   1.0  0.0  0.0  0.0\n",
      "1   0.0  6.0  0.0  0.0  0.0   0.0   0.0   0.0   0.0   0.0  0.0  0.0  0.0\n",
      "2   0.0  0.0  1.0  0.0  0.0   0.0   0.0   0.0   0.0   0.0  0.0  0.0  0.0\n",
      "3   0.0  0.0  0.0  0.0  0.0   0.0   0.0   0.0   0.0   0.0  0.0  0.0  0.0\n",
      "4   0.0  0.0  0.0  0.0  0.0   0.0   0.0   0.0   0.0   0.0  0.0  0.0  0.0\n",
      "5   0.0  0.0  0.0  0.0  0.0  20.0   0.0   0.0   1.0   0.0  0.0  0.0  0.0\n",
      "6   1.0  1.0  0.0  0.0  0.0   0.0  23.0   0.0   0.0   0.0  0.0  0.0  0.0\n",
      "7   1.0  0.0  0.0  0.0  0.0   0.0   0.0  14.0   0.0   2.0  0.0  0.0  0.0\n",
      "8   4.0  2.0  0.0  0.0  1.0   3.0   0.0   0.0  67.0   0.0  0.0  1.0  0.0\n",
      "9   2.0  2.0  9.0  0.0  2.0   0.0   0.0   0.0   0.0  31.0  0.0  2.0  1.0\n",
      "10  0.0  0.0  0.0  0.0  0.0   0.0   0.0   0.0   0.0   0.0  0.0  0.0  0.0\n",
      "11  0.0  0.0  0.0  0.0  0.0   0.0   0.0   0.0   0.0   0.0  0.0  3.0  0.0\n",
      "12  0.0  0.0  0.0  0.0  0.0   0.0   0.0   0.0   0.0   0.0  0.0  0.0  4.0\n"
     ]
    }
   ],
   "source": [
    "games, test, mcw = LoadData(19000, [True, False], 'by turn with number')\n",
    "Training2(games, mcw, opening_cats, test)"
   ]
  },
  {
   "cell_type": "markdown",
   "metadata": {},
   "source": [
    "### 1000 Games, training not truncated by opening_ply, separated by turn"
   ]
  },
  {
   "cell_type": "code",
   "execution_count": 22,
   "metadata": {},
   "outputs": [
    {
     "name": "stdout",
     "output_type": "stream",
     "text": [
      "Training Time (seconds):  15.372795820236206\n",
      "Testing Time (seconds):  79.9490258693695\n",
      "ACCURACY:  0.7405660377358491\n",
      "      0    1    2    3    4     5     6     7     8     9   10   11   12\n",
      "0   5.0  1.0  0.0  0.0  1.0   0.0   0.0   0.0   0.0   0.0  0.0  0.0  2.0\n",
      "1   1.0  5.0  0.0  0.0  0.0   0.0   0.0   0.0   0.0   0.0  0.0  0.0  0.0\n",
      "2   0.0  0.0  0.0  0.0  0.0   0.0   0.0   0.0   0.0   0.0  0.0  0.0  0.0\n",
      "3   0.0  0.0  0.0  0.0  0.0   0.0   0.0   0.0   0.0   0.0  0.0  0.0  0.0\n",
      "4   0.0  0.0  0.0  0.0  0.0   0.0   0.0   0.0   0.0   0.0  0.0  0.0  0.0\n",
      "5   1.0  1.0  5.0  0.0  0.0  17.0   0.0   0.0   0.0   0.0  0.0  0.0  3.0\n",
      "6   2.0  0.0  2.0  0.0  0.0   0.0  29.0   0.0   0.0   0.0  0.0  1.0  0.0\n",
      "7   0.0  0.0  0.0  0.0  0.0   0.0   0.0  14.0   0.0   0.0  0.0  0.0  0.0\n",
      "8   8.0  1.0  0.0  0.0  0.0   6.0   0.0   0.0  56.0   0.0  0.0  0.0  0.0\n",
      "9   3.0  4.0  2.0  0.0  1.0   0.0   0.0   0.0   0.0  28.0  2.0  7.0  1.0\n",
      "10  0.0  0.0  0.0  0.0  0.0   0.0   0.0   0.0   0.0   0.0  0.0  0.0  0.0\n",
      "11  0.0  0.0  0.0  0.0  0.0   0.0   0.0   0.0   0.0   0.0  0.0  2.0  0.0\n",
      "12  0.0  0.0  0.0  0.0  0.0   0.0   0.0   0.0   0.0   0.0  0.0  0.0  1.0\n"
     ]
    }
   ],
   "source": [
    "games, test, mcw = LoadData(19000, [False, False], 'by turn')\n",
    "Training2(games, mcw, opening_cats, test)"
   ]
  },
  {
   "cell_type": "markdown",
   "metadata": {},
   "source": [
    "### 1000 Games, training not truncated by opening_ply, separated by turn with number"
   ]
  },
  {
   "cell_type": "code",
   "execution_count": 23,
   "metadata": {},
   "outputs": [
    {
     "name": "stdout",
     "output_type": "stream",
     "text": [
      "Training Time (seconds):  24.883290767669678\n",
      "Testing Time (seconds):  79.53715395927429\n",
      "ACCURACY:  0.8160377358490566\n",
      "      0     1     2    3    4     5     6     7     8     9   10   11   12\n",
      "0   3.0   1.0   0.0  0.0  0.0   0.0   0.0   0.0   0.0   1.0  0.0  0.0  1.0\n",
      "1   0.0  10.0   0.0  0.0  0.0   0.0   0.0   0.0   0.0   0.0  0.0  0.0  0.0\n",
      "2   0.0   0.0   2.0  0.0  0.0   0.0   0.0   0.0   0.0   0.0  0.0  0.0  0.0\n",
      "3   0.0   0.0   0.0  0.0  0.0   0.0   0.0   0.0   0.0   0.0  0.0  0.0  0.0\n",
      "4   0.0   0.0   0.0  0.0  1.0   0.0   0.0   0.0   0.0   0.0  0.0  0.0  0.0\n",
      "5   1.0   0.0   0.0  0.0  0.0  21.0   0.0   0.0   0.0   0.0  0.0  1.0  0.0\n",
      "6   0.0   0.0   0.0  0.0  0.0   0.0  19.0   0.0   0.0   0.0  0.0  0.0  0.0\n",
      "7   0.0   0.0   0.0  0.0  0.0   0.0   0.0  13.0   0.0   0.0  0.0  0.0  0.0\n",
      "8   8.0   0.0   0.0  0.0  2.0   3.0   0.0   0.0  67.0   0.0  0.0  0.0  0.0\n",
      "9   5.0   1.0  10.0  0.0  1.0   0.0   0.0   0.0   0.0  30.0  1.0  1.0  0.0\n",
      "10  0.0   0.0   0.0  0.0  0.0   0.0   0.0   0.0   0.0   0.0  0.0  0.0  0.0\n",
      "11  0.0   0.0   1.0  0.0  0.0   0.0   0.0   0.0   0.0   0.0  0.0  5.0  0.0\n",
      "12  1.0   0.0   0.0  0.0  0.0   0.0   0.0   0.0   0.0   0.0  0.0  0.0  2.0\n"
     ]
    }
   ],
   "source": [
    "games, test, mcw = LoadData(19000, [False, False], 'by turn with number')\n",
    "Training2(games, mcw, opening_cats, test)"
   ]
  },
  {
   "cell_type": "markdown",
   "metadata": {},
   "source": [
    "### 2,000 Games, training truncated by opening_ply, separated by turn"
   ]
  },
  {
   "cell_type": "code",
   "execution_count": 3,
   "metadata": {},
   "outputs": [
    {
     "name": "stdout",
     "output_type": "stream",
     "text": [
      "Training Time (seconds):  9.83779501914978\n",
      "Testing Time (seconds):  303.6922070980072\n",
      "ACCURACY:  0.720873786407767\n",
      "       0    1    2    3    4     5     6     7     8     9   10   11   12\n",
      "0   14.0  0.0  0.0  0.0  0.0   0.0   0.0   0.0   0.0   0.0  0.0  0.0  0.0\n",
      "1    0.0  1.0  0.0  0.0  0.0   0.0   0.0   0.0   0.0   0.0  0.0  0.0  0.0\n",
      "2    0.0  0.0  0.0  0.0  0.0   0.0   0.0   0.0   0.0   0.0  0.0  0.0  0.0\n",
      "3    0.0  0.0  0.0  1.0  0.0   0.0   0.0   0.0   0.0   0.0  0.0  0.0  0.0\n",
      "4    0.0  0.0  0.0  0.0  0.0   0.0   0.0   0.0   0.0   0.0  0.0  0.0  0.0\n",
      "5    4.0  2.0  0.0  0.0  0.0  27.0   0.0   3.0   0.0   0.0  0.0  0.0  0.0\n",
      "6    4.0  3.0  1.0  0.0  1.0   1.0  58.0   0.0   0.0   0.0  0.0  0.0  0.0\n",
      "7    0.0  1.0  0.0  0.0  0.0   0.0   0.0  29.0   0.0   0.0  0.0  0.0  0.0\n",
      "8   23.0  7.0  2.0  1.0  4.0  13.0   3.0   2.0  97.0   1.0  0.0  0.0  2.0\n",
      "9   10.0  6.0  8.0  0.0  4.0   2.0   0.0   0.0   0.0  56.0  2.0  5.0  0.0\n",
      "10   0.0  0.0  0.0  0.0  0.0   0.0   0.0   0.0   0.0   0.0  0.0  0.0  0.0\n",
      "11   0.0  0.0  0.0  0.0  0.0   0.0   0.0   0.0   0.0   0.0  0.0  7.0  0.0\n",
      "12   0.0  0.0  0.0  0.0  0.0   0.0   0.0   0.0   0.0   0.0  0.0  0.0  7.0\n"
     ]
    }
   ],
   "source": [
    "games, test, mcw = LoadData(18000, [True, False], 'by turn')\n",
    "Training2(games, mcw, opening_cats, test)"
   ]
  },
  {
   "cell_type": "markdown",
   "metadata": {},
   "source": [
    "### 2,000 Games, training truncated by opening_ply, separated by turn with number"
   ]
  },
  {
   "cell_type": "code",
   "execution_count": 4,
   "metadata": {},
   "outputs": [
    {
     "name": "stdout",
     "output_type": "stream",
     "text": [
      "Training Time (seconds):  15.425403833389282\n",
      "Testing Time (seconds):  302.2255790233612\n",
      "ACCURACY:  0.8155339805825242\n",
      "       0    1    2    3    4     5     6     7      8     9   10   11   12\n",
      "0   29.0  2.0  0.0  0.0  0.0   0.0   0.0   0.0    0.0   1.0  0.0  1.0  0.0\n",
      "1    0.0  7.0  0.0  0.0  0.0   0.0   0.0   0.0    0.0   0.0  0.0  0.0  0.0\n",
      "2    0.0  0.0  1.0  0.0  0.0   0.0   0.0   0.0    0.0   0.0  0.0  0.0  0.0\n",
      "3    0.0  0.0  0.0  1.0  0.0   0.0   0.0   0.0    0.0   0.0  0.0  0.0  0.0\n",
      "4    0.0  0.0  0.0  0.0  1.0   0.0   0.0   0.0    0.0   0.0  0.0  0.0  0.0\n",
      "5    3.0  0.0  0.0  1.0  0.0  45.0   0.0   2.0    0.0   0.0  0.0  1.0  0.0\n",
      "6    3.0  0.0  0.0  1.0  0.0   1.0  52.0   1.0    0.0   0.0  0.0  0.0  0.0\n",
      "7    0.0  1.0  0.0  0.0  0.0   0.0   0.0  24.0    0.0   1.0  0.0  0.0  0.0\n",
      "8   13.0  4.0  0.0  0.0  0.0   7.0   1.0   1.0  119.0   1.0  0.0  0.0  0.0\n",
      "9    7.0  5.0  9.0  1.0  1.0   1.0   0.0   0.0    0.0  44.0  2.0  3.0  0.0\n",
      "10   0.0  0.0  0.0  0.0  0.0   0.0   0.0   0.0    0.0   0.0  0.0  0.0  0.0\n",
      "11   0.0  0.0  0.0  0.0  0.0   0.0   0.0   0.0    0.0   0.0  0.0  5.0  0.0\n",
      "12   0.0  1.0  0.0  0.0  0.0   0.0   0.0   0.0    0.0   0.0  0.0  0.0  8.0\n"
     ]
    }
   ],
   "source": [
    "games, test, mcw = LoadData(18000, [True, False], 'by turn with number')\n",
    "Training2(games, mcw, opening_cats, test)"
   ]
  },
  {
   "cell_type": "markdown",
   "metadata": {},
   "source": [
    "### 5,000 Games, training not truncated by opening_ply, separated by turn"
   ]
  },
  {
   "cell_type": "code",
   "execution_count": 5,
   "metadata": {},
   "outputs": [
    {
     "name": "stdout",
     "output_type": "stream",
     "text": [
      "Training Time (seconds):  189.7213430404663\n",
      "Testing Time (seconds):  1834.0691928863525\n",
      "ACCURACY:  0.766798418972332\n",
      "       0     1     2    3    4      5      6     7      8      9   10    11  \\\n",
      "0   71.0   5.0   1.0  1.0  2.0    6.0    0.0   0.0    0.0    1.0  2.0   1.0   \n",
      "1    0.0   1.0   0.0  0.0  0.0    0.0    0.0   0.0    0.0    0.0  0.0   0.0   \n",
      "2    0.0   0.0   0.0  0.0  0.0    0.0    0.0   0.0    0.0    1.0  0.0   0.0   \n",
      "3    0.0   0.0   0.0  0.0  0.0    0.0    0.0   0.0    0.0    0.0  0.0   0.0   \n",
      "4    0.0   0.0   0.0  0.0  0.0    0.0    0.0   0.0    0.0    0.0  0.0   0.0   \n",
      "5    5.0   5.0   2.0  3.0  0.0  104.0    0.0   4.0    1.0    0.0  0.0   0.0   \n",
      "6    6.0   5.0   0.0  1.0  0.0    2.0  126.0   2.0    0.0    1.0  0.0   0.0   \n",
      "7    0.0   3.0   0.0  0.0  0.0    0.0    0.0  50.0    0.0    0.0  0.0   0.0   \n",
      "8   29.0   7.0   2.0  5.0  4.0   24.0    4.0   4.0  297.0    7.0  0.0   0.0   \n",
      "9   20.0  12.0  17.0  3.0  5.0    2.0    0.0   4.0    0.0  119.0  2.0  17.0   \n",
      "10   0.0   0.0   0.0  0.0  0.0    0.0    0.0   0.0    0.0    0.0  0.0   0.0   \n",
      "11   0.0   0.0   0.0  0.0  0.0    0.0    0.0   0.0    0.0    0.0  0.0   2.0   \n",
      "12   0.0   0.0   0.0  0.0  0.0    0.0    0.0   0.0    0.0    0.0  0.0   0.0   \n",
      "\n",
      "     12  \n",
      "0   3.0  \n",
      "1   0.0  \n",
      "2   0.0  \n",
      "3   0.0  \n",
      "4   0.0  \n",
      "5   2.0  \n",
      "6   0.0  \n",
      "7   0.0  \n",
      "8   1.0  \n",
      "9   2.0  \n",
      "10  0.0  \n",
      "11  0.0  \n",
      "12  6.0  \n"
     ]
    }
   ],
   "source": [
    "games, test, mcw = LoadData(15000, [False, False], 'by turn')\n",
    "Training2(games, mcw, opening_cats, test)"
   ]
  },
  {
   "cell_type": "markdown",
   "metadata": {},
   "source": [
    "### 5,000 Games, training not truncated by opening_ply, separated by turn with number"
   ]
  },
  {
   "cell_type": "code",
   "execution_count": 6,
   "metadata": {},
   "outputs": [
    {
     "name": "stdout",
     "output_type": "stream",
     "text": [
      "Training Time (seconds):  349.56856298446655\n",
      "Testing Time (seconds):  1826.8452939987183\n",
      "ACCURACY:  0.8320158102766798\n",
      "       0    1     2    3    4     5      6     7      8      9   10    11  \\\n",
      "0   70.0  0.0   0.0  0.0  1.0   0.0    0.0   0.0    0.0    3.0  1.0   1.0   \n",
      "1    0.0  9.0   0.0  0.0  0.0   0.0    0.0   0.0    0.0    0.0  0.0   0.0   \n",
      "2    0.0  0.0   6.0  0.0  0.0   0.0    0.0   0.0    0.0    0.0  0.0   0.0   \n",
      "3    0.0  0.0   0.0  0.0  0.0   0.0    0.0   0.0    0.0    0.0  0.0   0.0   \n",
      "4    0.0  0.0   0.0  0.0  2.0   0.0    0.0   0.0    0.0    0.0  0.0   0.0   \n",
      "5    7.0  5.0   0.0  0.0  0.0  97.0    1.0   0.0    1.0    0.0  0.0   1.0   \n",
      "6    3.0  0.0   0.0  0.0  0.0   2.0  132.0   1.0    0.0    0.0  0.0   0.0   \n",
      "7    0.0  2.0   0.0  0.0  0.0   1.0    1.0  69.0    0.0    0.0  0.0   0.0   \n",
      "8   35.0  5.0   0.0  0.0  2.0  17.0    3.0   3.0  312.0    0.0  0.0   0.0   \n",
      "9   14.0  9.0  19.0  6.0  2.0   0.0    0.0   2.0    0.0  122.0  1.0  12.0   \n",
      "10   0.0  0.0   0.0  0.0  0.0   0.0    0.0   0.0    0.0    0.0  2.0   0.0   \n",
      "11   0.0  0.0   0.0  0.0  0.0   0.0    0.0   0.0    0.0    0.0  0.0   8.0   \n",
      "12   0.0  0.0   1.0  0.0  1.0   0.0    0.0   0.0    0.0    0.0  0.0   0.0   \n",
      "\n",
      "      12  \n",
      "0    2.0  \n",
      "1    2.0  \n",
      "2    0.0  \n",
      "3    0.0  \n",
      "4    0.0  \n",
      "5    0.0  \n",
      "6    0.0  \n",
      "7    0.0  \n",
      "8    0.0  \n",
      "9    3.0  \n",
      "10   0.0  \n",
      "11   0.0  \n",
      "12  13.0  \n"
     ]
    }
   ],
   "source": [
    "games, test, mcw = LoadData(15000, [False, False], 'by turn with number')\n",
    "Training2(games, mcw, opening_cats, test)"
   ]
  }
 ],
 "metadata": {
  "kernelspec": {
   "display_name": "Python 3",
   "language": "python",
   "name": "python3"
  },
  "language_info": {
   "codemirror_mode": {
    "name": "ipython",
    "version": 3
   },
   "file_extension": ".py",
   "mimetype": "text/x-python",
   "name": "python",
   "nbconvert_exporter": "python",
   "pygments_lexer": "ipython3",
   "version": "3.8.3"
  }
 },
 "nbformat": 4,
 "nbformat_minor": 4
}
