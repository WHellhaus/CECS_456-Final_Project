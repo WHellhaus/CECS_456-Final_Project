{
 "cells": [
  {
   "cell_type": "markdown",
   "metadata": {},
   "source": [
    "# RNN Test"
   ]
  },
  {
   "cell_type": "markdown",
   "metadata": {},
   "source": [
    "### Preprocess\n",
    "\n",
    "Setting up data to be used in RNN (turning moves into list of numbers from dictionary mapping)"
   ]
  },
  {
   "cell_type": "code",
   "execution_count": 12,
   "metadata": {},
   "outputs": [
    {
     "name": "stdout",
     "output_type": "stream",
     "text": [
      "{'Kxc7': 1, 'Re4': 2, 'Ra2': 3, 'fxg4': 4, 'Ra7+': 5, 'd2': 6, 'Qb7+': 7, 'f5+': 8, 'Rexa6': 9, 'Rh7': 10, 'Ra3': 11, 'Qxg2+': 12, 'g1=Q+': 13, 'Rcd5': 14, 'O-O-O': 15, 'Nxd1': 16, 'Bc2+': 17, 'Kf7': 18, 'g3+': 19, 'Bxd3+': 20, 'Ng6+': 21, 'Qe5': 22, 'Qxc8': 23, 'Kg5': 24, 'Be2': 25, 'Qxb6': 26, 'Ngxe5': 27, 'Rag8': 28, 'Bxf7': 29, 'Qc5': 30, 'Nf6': 31, 'Kxh6': 32, 'cxd6': 33, 'Qh7': 34, 'Nxc6': 35, 'Kh1': 36, 'Nxd6': 37, 'dxe4': 38, 'Rh6': 39, 'Nxg2+': 40, 'Rfe8': 41, 'Qxe7+': 42, 'Qh6+': 43, 'g6': 44, 'Qxf3': 45, 'O-O-O+': 46, 'Bxd1': 47, 'Kb6': 48, 'Nxd2': 49, 'Nf2': 50, 'Rxg8+': 51, 'Qxe2': 52, 'Rxf3+': 53, 'Rgxg2': 54, 'Rhe8': 55, 'Ba4+': 56, 'Qxg1': 57, 'exd4': 58, 'Nxg4': 59, 'Be4': 60, 'Bxd4': 61, 'Bd4+': 62, 'Qf8': 63, 'Ncd5': 64, 'Qxa8+': 65, 'Bxe7': 66, 'R8h3+': 67, 'Rb8+': 68, 'Rcd1': 69, 'Qxa1': 70, 'Bc3+': 71, 'Qc7+': 72, 'Rxa1': 73, 'Rxa5': 74, 'exf4': 75, 'g4': 76, 'Nf3': 77, 'Rxd8+': 78, 'Bg6': 79, 'Kd8': 80, 'Qxe3': 81, 'Rfb8': 82, 'Ndf6': 83, 'Kxg7': 84, 'Qc3': 85, 'f5': 86, 'Rg6+': 87, 'Qa1+': 88, 'Qxa3': 89, 'Rb6': 90, 'Rd4+': 91, 'Kxe7': 92, 'Nbc3': 93, 'Kxb4': 94, 'Qxd6': 95, 'Rxe5+': 96, 'Nf6+': 97, 'a4': 98, 'c4': 99, 'Kxd5': 100, 'Rg4+': 101, 'Qe2+': 102, 'Qxf8+': 103, 'Nxc3': 104, 'Bxg3': 105, 'Nxe6': 106, 'Rdg3': 107, 'Nxe1': 108, 'Qf4': 109, 'Qc7': 110, 'Qa5': 111, 'exf5': 112, 'Rg1+': 113, 'Nxd5': 114, 'Rdd7': 115, 'Qa4+': 116, 'Qb8+': 117, 'Qxf5+': 118, 'Rah8': 119, 'h3+': 120, 'Rg2': 121, 'Nc6+': 122, 'Rxf7': 123, 'Qxa6': 124, 'Kc8': 125, 'Na5': 126, 'Rxa4': 127, 'exf7+': 128, 'Bxf2': 129, 'Rdxd7': 130, 'Rb2': 131, 'Nxd3+': 132, 'Kb1': 133, 'Ka7': 134, 'Rxb2': 135, 'Kc4': 136, 'Nfxe7': 137, 'Rgg7': 138, 'Re2': 139, 'Nxc3+': 140, 'Nfxg4': 141, 'Ke1+': 142, 'Rd2': 143, 'Bxe5': 144, 'e5': 145, 'gxh4': 146, 'Kxf7': 147, 'R6e2': 148, 'Qxg4': 149, 'Qxe3+': 150, 'Ke7': 151, 'Bd7': 152, 'Ree2': 153, 'c4+': 154, 'Ndxf6+': 155, 'gxh3': 156, 'Qd6': 157, 'Nxh4': 158, 'Qxg8': 159, 'Ka3': 160, 'Nxh8': 161, 'Bxb4+': 162, 'Rc6': 163, 'Qc1': 164, 'd7': 165, 'Bxd6': 166, 'Qxc1': 167, 'Bf5': 168, 'Ra6': 169, 'Rxa2': 170, 'Bd4': 171, 'Rh1+': 172, 'Rfe1': 173, 'N3e4': 174, 'Kxg2': 175, 'Qc4+': 176, 'Nc4+': 177, 'Qxh8': 178, 'Rxd2+': 179, 'Bxb1': 180, 'bxa6': 181, 'hxg3': 182, 'g5+': 183, 'Bf5+': 184, 'Bxf2+': 185, 'Nxc2+': 186, 'Kf6': 187, 'Nxe7': 188, 'dxe5+': 189, 'Rac1': 190, 'Rae1': 191, 'h5': 192, 'Rxc4': 193, 'Rbg1': 194, 'Nbxd2': 195, 'cxb6': 196, 'Nd1': 197, 'Nb3+': 198, 'Qb5+': 199, 'Qf1': 200, 'Rad8': 201, 'Raf1': 202, 'Rxg7': 203, 'exf1=Q+': 204, 'Qe6+': 205, 'Qg1+': 206, 'Bf3': 207, 'b4': 208, 'R4e2': 209, 'Ra3+': 210, 'Rf1': 211, 'Qh3+': 212, 'Nxb4': 213, 'Bxe3': 214, 'Rg8+': 215, 'Qd8': 216, 'Qxb4+': 217, 'Rhc8+': 218, 'hxg3+': 219, 'Rxc8+': 220, 'a2': 221, 'Rxd8': 222, 'Qh8+': 223, 'Rfd8+': 224, 'Rdd2': 225, 'Nh4+': 226, 'Bxb6': 227, 'Qg4+': 228, 'Ba8': 229, 'Ndb5': 230, 'Ne1': 231, 'Rb5': 232, 'Ke5': 233, 'Qxe4': 234, 'Rxd7': 235, 'Nfd7': 236, 'Qxh1+': 237, 'Bd7+': 238, 'Nxe7+': 239, 'gxf5': 240, 'Be4+': 241, 'Kxe1': 242, 'Bg2': 243, 'Rxd3': 244, 'Qxf2+': 245, 'Rf2': 246, 'Ng8': 247, 'Qxa7': 248, 'fxg4+': 249, 'Qf6+': 250, 'Neg5': 251, 'exf3': 252, 'Bxd5': 253, 'Rxf2+': 254, 'Rdg8': 255, 'Rgxf7+': 256, 'Rexe1+': 257, 'Qxb2+': 258, 'Qxb7': 259, 'Kh5': 260, 'Rc3+': 261, 'Qd1': 262, 'hxg6+': 263, 'Qd7': 264, 'Bh7+': 265, 'Nd6': 266, 'Bg6+': 267, 'Bb2': 268, 'Qxa8': 269, 'Rfd8': 270, 'Rad1': 271, 'fxg5': 272, 'Rxb3+': 273, 'Nxf6': 274, 'Bxc6': 275, 'Ra6+': 276, 'Qf7': 277, 'Kg6': 278, 'Nxg5': 279, 'Qxf6': 280, 'R4d5': 281, 'Bxg2+': 282, 'Bxb5': 283, 'Rgf2+': 284, 'Kc2': 285, 'Qc3+': 286, 'Nxd4': 287, 'Ka2': 288, 'dxe5': 289, 'Nxg5+': 290, 'Nxf3+': 291, 'Rhf1': 292, 'Kxb7': 293, 'Ng7': 294, 'Rgxf2': 295, 'Nxb4+': 296, 'Qxb1': 297, 'Rxg3': 298, 'Rhg8': 299, 'Be7+': 300, 'Nxb6+': 301, 'Kd7': 302, 'Ncxe4': 303, 'Qa3': 304, 'Rxc5': 305, 'Rxh1': 306, 'Rc8': 307, 'Qb7': 308, 'Bh5': 309, 'dxc3': 310, 'dxe6': 311, 'Nd5': 312, 'f3': 313, 'Nce2': 314, 'Qd1+': 315, 'Bxh8': 316, 'Qxc3+': 317, 'Kxf8': 318, 'Rd7': 319, 'Qxc7': 320, 'Rxa7': 321, 'Rhg3': 322, 'Rhc8': 323, 'Ra2+': 324, 'Bc3': 325, 'Nc7+': 326, 'Qg4': 327, 'Rxe8': 328, 'bxc6': 329, 'Bxg6': 330, 'Qxg7': 331, 'Qa5+': 332, 'Be2+': 333, 'Ng3': 334, 'Rg7': 335, 'gxf5+': 336, 'Bxg4+': 337, 'Ke1': 338, 'Rxe4': 339, 'Rxf6+': 340, 'Qxe6+': 341, 'Kxf3': 342, 'b6': 343, 'Qa8+': 344, 'dxc6': 345, 'Qxa5': 346, 'Kxd7': 347, 'Rxc1+': 348, 'Kh3': 349, 'Kb5': 350, 'fxg5+': 351, 'Kxb2': 352, 'fxe7': 353, 'Bg5': 354, 'Nxa3': 355, 'Nxh2+': 356, 'Qc4': 357, 'Bb3': 358, 'Nc5': 359, 'Rxe4+': 360, 'Kxe5': 361, 'Qxf7+': 362, 'Bd6+': 363, 'Bxc7': 364, 'e8=Q': 365, 'Ra8+': 366, 'bxc5': 367, 'Rxf8+': 368, 'h5+': 369, 'Re6+': 370, 'Bxc5': 371, 'Nf5': 372, 'Qxf4+': 373, 'Rxe8+': 374, 'fxe3': 375, 'Rb4': 376, 'Kxc1': 377, 'Kxc8': 378, 'h4': 379, 'Ree7': 380, 'Bh5+': 381, 'b3': 382, 'Rxg1': 383, 'Rcxg7': 384, 'Qg5': 385, 'Qa6+': 386, 'Rg6': 387, 'Na2': 388, 'Nxa5': 389, 'bxa7': 390, 'Qxc7+': 391, 'Ba3': 392, 'Qb2': 393, 'Nc7': 394, 'Ng4': 395, 'Rxe6': 396, 'Qxd3+': 397, 'c6': 398, 'Qg3': 399, 'a3+': 400, 'Qg6': 401, 'Qxh7': 402, 'Ne5+': 403, 'Rxd2': 404, 'Bd5+': 405, 'Rf8': 406, 'Kxa2': 407, 'Kb3': 408, 'Qf6': 409, 'Nc6': 410, 'Ne4+': 411, 'Nf4+': 412, 'd1=Q': 413, 'Rh2': 414, 'Kf1': 415, 'Rf3+': 416, 'Nxf7': 417, 'Rd6+': 418, 'Bh2+': 419, 'Ba6': 420, 'Nxd5+': 421, 'Qg2': 422, 'Rfc8': 423, 'Bb1': 424, 'Rxf1+': 425, 'Rxa6': 426, 'cxb5': 427, 'Ndf3': 428, 'Bxd3': 429, 'gxh5': 430, 'Kxa5': 431, 'Rd7+': 432, 'e4+': 433, 'h8=Q+': 434, 'Rxg5+': 435, 'Rxd3+': 436, 'Nc3': 437, 'Re2+': 438, 'Ngf6': 439, 'Kd4': 440, 'Nh5': 441, 'Rxb4': 442, 'Re1+': 443, 'Bxh6': 444, 'Qxd4': 445, 'Qxe5': 446, 'Qe4+': 447, 'Ra5': 448, 'Nxe5': 449, 'Qxf5': 450, 'Rfe1+': 451, 'Ba2': 452, 'Nxd7': 453, 'Nb7': 454, 'Rxg2+': 455, 'Qf5+': 456, 'Kxg5': 457, 'Rxf3': 458, 'N2f3': 459, 'Raxf4': 460, 'Bxg7': 461, 'Qxh2+': 462, 'Nxf2': 463, 'Rdc7': 464, 'Rge3': 465, 'Nxa7': 466, 'Nf8': 467, 'Nd7': 468, 'Rxf1': 469, 'Bxe4+': 470, 'g2+': 471, 'Rb3+': 472, 'Rc6+': 473, 'Kxh8': 474, 'Raxd1': 475, 'Ka4': 476, 'Qc8': 477, 'Nf5+': 478, 'Bd2': 479, 'Qf3+': 480, 'Nb8': 481, 'Bd1': 482, 'e2+': 483, 'Qd4': 484, 'Nxh5+': 485, 'Bxe5+': 486, 'c5': 487, 'Bc2': 488, 'gxf3': 489, 'Qxh7+': 490, 'Kc1': 491, 'Rg5': 492, 'Be7': 493, 'Kg4': 494, 'Ngxe4': 495, 'Bxa5': 496, 'fxg6': 497, 'Kxf6': 498, 'gxf4': 499, 'Rxe7': 500, 'R1g2': 501, 'Nc2+': 502, 'Ra8': 503, 'Qxh4': 504, 'Bc8': 505, 'Rff2': 506, 'Kc5': 507, 'Ng4+': 508, 'Qxc3': 509, 'Kxc6': 510, 'Bb7+': 511, 'hxg6': 512, 'Rxg4+': 513, 'Kh6': 514, 'Qxc6+': 515, 'Nxf3': 516, 'Kh4': 517, 'Bxd2+': 518, 'Re4+': 519, 'Kb4': 520, 'Be6': 521, 'Qxh3+': 522, 'Ne5': 523, 'Rhe1': 524, 'Qb5': 525, 'Bxg6+': 526, 'Ne4': 527, 'Rxb8+': 528, 'c6+': 529, 'Qf3': 530, 'Nbd2': 531, 'Nxd6+': 532, 'Nbc6': 533, 'Rb8': 534, 'Qxd6+': 535, 'Rf6': 536, 'Bf4': 537, 'b5': 538, 'Qc1+': 539, 'Ned7': 540, 'Kd1': 541, 'Rb2+': 542, 'Rde7+': 543, 'R1xc2': 544, 'Qf7+': 545, 'Nbd4': 546, 'exd3': 547, 'Bxa4': 548, 'Ra4+': 549, 'Rxg7+': 550, 'Qd4+': 551, 'Nxg7+': 552, 'Bb5+': 553, 'Nxb7': 554, 'Nd5+': 555, 'Nh5+': 556, 'Qxd2': 557, 'Bxh1': 558, 'Nxd8': 559, 'Qxe6': 560, 'h6+': 561, 'Rxf6': 562, 'Neg4': 563, 'Nxg6+': 564, 'Qe3+': 565, 'Qf2+': 566, 'Rb7+': 567, 'Rd8+': 568, 'Ne7+': 569, 'a5': 570, 'e3+': 571, 'exd5': 572, 'fxe5': 573, 'c5+': 574, 'axb3': 575, 'Qxg3+': 576, 'R8c7': 577, 'Nxc7+': 578, 'Bxa7': 579, 'Rad8+': 580, 'Rd2+': 581, 'Qxa1+': 582, 'Kxa6': 583, 'Bxb3': 584, 'R1e3': 585, 'Kxg8': 586, 'Bxb8': 587, 'Bxe4': 588, 'Nxe3+': 589, 'Kxg3': 590, 'c2': 591, 'Bh6+': 592, 'Ne8': 593, 'Nxe3': 594, 'Na4': 595, 'Nf1': 596, 'Rb7': 597, 'e6+': 598, 'Qxc5': 599, 'dxc4': 600, 'Qe1+': 601, 'h3': 602, 'Qb2+': 603, 'Rff3': 604, 'fxe6': 605, 'a3': 606, 'g5': 607, 'Nce4': 608, 'Bxf1': 609, 'Rfd2': 610, 'Rab1+': 611, 'Qd3': 612, 'Ref8': 613, 'Qxg6': 614, 'Rxd6+': 615, 'Bxa6': 616, 'a8=Q': 617, 'Qg7': 618, 'Rxh3': 619, 'Qxh5': 620, 'Bb4': 621, 'Bxf6': 622, 'Bxd5+': 623, 'Kf4': 624, 'Ba7': 625, 'Rxf8': 626, 'bxc3': 627, 'Qe6': 628, 'Ba5': 629, 'e7+': 630, 'Rfd1+': 631, 'Rdc1': 632, 'Nf7+': 633, 'Qa7': 634, 'Bf7': 635, 'Kxh5': 636, 'Rxg4': 637, 'Nxf5': 638, 'Ra1': 639, 'Nb6': 640, 'Qxd8+': 641, 'Rc7+': 642, 'Bxe2': 643, 'Nxa6': 644, 'Rh1': 645, 'Re7+': 646, 'Rhc1': 647, 'dxe7': 648, 'Qa6': 649, 'Rxg2': 650, 'Bg4': 651, 'Re3': 652, 'Nc3+': 653, 'Nxa4': 654, 'Ke3': 655, 'Rbd8': 656, 'Kf3': 657, 'Nc1': 658, 'Qb4+': 659, 'Rxe2': 660, 'Qxg2': 661, 'Qxg5': 662, 'Nxe4+': 663, 'Bf2': 664, 'Rd4': 665, 'Bxa2': 666, 'Qxf6+': 667, 'Nxg2': 668, 'gxh5+': 669, 'a6': 670, 'Kg3': 671, 'Ne3': 672, 'Qg3+': 673, 'Rxc3': 674, 'Rb5+': 675, 'b7': 676, 'Rb4+': 677, 'Qxd5': 678, 'Ka1': 679, 'Rbd4': 680, 'Bh3+': 681, 'Na7': 682, 'Rxe5': 683, 'cxb7': 684, 'Qe5+': 685, 'Qxb3': 686, 'dxe3': 687, 'Qa8': 688, 'Na3': 689, 'bxa4': 690, 'Ka8': 691, 'Rg3+': 692, 'Rxb7': 693, 'c3': 694, 'Bh6': 695, 'R7g2': 696, 'Bxg2': 697, 'Bxf8': 698, 'Rc7': 699, 'Rxf5': 700, 'f6+': 701, 'Rfc2': 702, 'Bb4+': 703, 'Red7': 704, 'Qh5': 705, 'Rfc1': 706, 'Rxc2': 707, 'Nxc1': 708, 'Ka5': 709, 'Kf2': 710, 'Nh4': 711, '#': 712, 'Bxf5': 713, 'Kh2': 714, 'Rg2+': 715, 'Qb8': 716, 'Nd6+': 717, 'Rh8+': 718, 'Be3': 719, 'Bc4+': 720, 'Qxg1+': 721, 'Bxc3+': 722, 'Ndf5': 723, 'Qxe5+': 724, 'Kxd8': 725, 'Rbd8+': 726, 'Nd8+': 727, 'Bxe3+': 728, 'd6': 729, 'Re7': 730, 'Ne6': 731, 'Bxb2': 732, 'Bxh7': 733, 'Nc4': 734, 'Qxb2': 735, 'Ne7': 736, 'Rab8': 737, 'Nc8': 738, 'Nxe2': 739, 'f4+': 740, 'Qc6': 741, 'Rc4': 742, 'Qc2+': 743, 'Qxc4': 744, 'Qxf1': 745, 'Qh5+': 746, 'Nce7': 747, 'Kh8': 748, 'Raa1': 749, 'Bxe6+': 750, 'Red1': 751, 'Kxg6': 752, 'Kxa3': 753, 'Qxh1': 754, 'f4': 755, 'Nxb2': 756, 'Rb6+': 757, 'Qxd7+': 758, 'hxg5': 759, 'Rcd4': 760, 'Qf2': 761, 'Kb7': 762, 'Rxh7': 763, 'Rh6+': 764, 'Qxh8+': 765, 'Nd3': 766, 'Rxc1': 767, 'cxd3': 768, 'Qxb5': 769, 'a1=Q': 770, 'Qa2': 771, 'bxa8=Q': 772, 'Rxb1': 773, 'e4': 774, 'Nhxf4': 775, 'Re6': 776, 'Rh7+': 777, 'Rbc2': 778, 'Rh3+': 779, 'd4': 780, 'exd6': 781, 'Ba2+': 782, 'axb4': 783, 'Nxb3+': 784, 'Nd4+': 785, 'Ke6': 786, 'Bf1': 787, 'Bxd2': 788, 'O-O': 789, 'Ncxd4': 790, 'Qf1+': 791, 'Bxe8': 792, 'Qh3': 793, 'c8=Q': 794, 'bxa3': 795, 'Ne2+': 796, 'Qxd5+': 797, 'Bc6': 798, 'Bxa8': 799, 'Bc5': 800, 'R1g6+': 801, 'Qxd1+': 802, 'Be5': 803, 'Qg6+': 804, 'Rxg5': 805, 'Bg5+': 806, 'cxb4': 807, 'Ncxe5': 808, 'Bf8': 809, 'Ba5+': 810, 'Ba6+': 811, 'Nc2': 812, 'Qb4': 813, 'Bf8+': 814, 'Qb1': 815, 'Rxd5': 816, 'Qxe8': 817, 'Nd2': 818, 'Rde8': 819, 'Rxe1': 820, 'Kxh3': 821, 'Rxg6': 822, 'cxd4': 823, 'Rh5': 824, 'Bb8': 825, 'Bxf6+': 826, 'Bxh2+': 827, 'Nxe2+': 828, 'exf6': 829, 'Qxe4+': 830, 'Bh2': 831, 'Bxh7+': 832, 'Qxa2+': 833, 'Rdg4': 834, 'Na8': 835, 'Be1': 836, 'Bh8': 837, 'Rc4+': 838, 'Nxg6': 839, 'Rd8': 840, 'Bh3': 841, 'Qh1': 842, 'Nd4': 843, 'Rf4': 844, 'Bh1': 845, 'g1=Q': 846, 'axb6': 847, 'Qd2': 848, 'Rh4': 849, 'f6': 850, 'Bd3': 851, 'Nxg3': 852, 'Raxd7': 853, 'Rd1+': 854, 'Qxh3': 855, 'Qh6': 856, 'Nb4': 857, 'Qd5': 858, 'Rh8': 859, 'Kb2': 860, 'Rxd1': 861, 'Rf2+': 862, 'Rxg3+': 863, 'Ngf3': 864, 'Nh2': 865, 'Nec6': 866, 'Ra7': 867, 'Rg3': 868, 'hxg4': 869, 'Nxc8': 870, 'Rxe1+': 871, 'cxd5': 872, 'Nxf6+': 873, 'Qxb8': 874, 'Bc6+': 875, 'Bd6': 876, 'Nxg1': 877, 'Bxe1': 878, 'Nxd3': 879, 'Rf7+': 880, 'Ke4': 881, 'Rxh2': 882, 'Rxc6+': 883, 'Qxd2+': 884, 'g4+': 885, 'Qxd3': 886, 'Rf8+': 887, 'Bxc4': 888, 'Kd3': 889, 'exf6+': 890, 'Ra1+': 891, 'Bxa1': 892, 'Nhg4': 893, 'fxg3': 894, 'axb7': 895, 'Kxh7': 896, 'Rf4+': 897, 'd3': 898, 'Rhd1': 899, 'dxc5': 900, 'Nh6': 901, 'Qg5+': 902, 'Rxf2': 903, 'Rxe3': 904, 'Kxf2': 905, 'Nd8': 906, 'd5': 907, 'Qh8': 908, 'Rae3': 909, 'Be5+': 910, 'd8=Q': 911, 'Red8': 912, 'Kb8': 913, 'Bxf4': 914, 'b5+': 915, 'b2': 916, 'Nb5': 917, 'R3xf4': 918, 'Kxb3': 919, 'Rxa8': 920, 'Qb3': 921, 'Kg7': 922, 'Qxa4': 923, 'Qg8+': 924, 'Kxe8': 925, 'Rxc8': 926, 'g2': 927, 'Ne6+': 928, 'Rf5': 929, 'Ne3+': 930, 'Qxb4': 931, 'Rc2': 932, 'Rfd1': 933, 'Nxf5+': 934, 'e3': 935, 'Qe2': 936, 'Qxf2': 937, 'Nexd7': 938, 'Qd2+': 939, 'Rxb8': 940, 'Be8': 941, 'Rc1': 942, 'Qxg4+': 943, 'Be8+': 944, 'Nbd7': 945, 'Kg1': 946, 'Qa1': 947, 'Bg7': 948, 'Qxf8': 949, 'Rxc7': 950, 'b1=Q': 951, 'N7f6': 952, 'N5f6': 953, 'Nxa8': 954, 'Qxd7': 955, 'Kxf5': 956, 'Rxh1+': 957, 'e2': 958, 'Bg4+': 959, 'Qc5+': 960, 'Kd6': 961, 'Rgf8+': 962, 'Nhf6': 963, 'Qxe8+': 964, 'Rdd3': 965, 'Ra4': 966, 'Rc5': 967, 'Nge7': 968, 'c7': 969, 'e7': 970, 'Qd7+': 971, 'Ng2': 972, 'Kxd6': 973, 'Nxc4': 974, 'Ba4': 975, 'Qe1': 976, 'Kd2': 977, 'Qg1': 978, 'c1=Q': 979, 'cxb3': 980, 'gxf6': 981, 'Ke8': 982, 'Kxe2': 983, 'Kxc3': 984, 'Qe7': 985, 'Nxc7': 986, 'Rxd6': 987, 'Rxh4': 988, 'g3': 989, 'Nh7': 990, 'Nf3+': 991, 'Rc2+': 992, 'Nd2+': 993, 'Bxc1': 994, 'Nxb3': 995, 'Kf5': 996, 'Qxd4+': 997, 'Qh7+': 998, 'Qf4+': 999, 'Qd8+': 1000, 'Bxf3': 1001, 'Ng5+': 1002, 'Kxd1': 1003, 'Bxc3': 1004, 'Qxg6+': 1005, 'Kxe4': 1006, 'Ng5': 1007, 'Rhf8': 1008, 'Nxh6+': 1009, 'Rbc1': 1010, 'Rbb8': 1011, 'Kxh4': 1012, 'Rdxe4': 1013, 'R1d2+': 1014, 'Bf6': 1015, 'Bxc6+': 1016, 'Qxd1': 1017, 'Nge2': 1018, 'Bb6': 1019, 'Qh4': 1020, 'h7': 1021, 'Nxb6': 1022, 'Qxh6': 1023, 'Nc5+': 1024, 'f3+': 1025, 'Rcc5': 1026, 'Qxf4': 1027, 'd6+': 1028, 'Bxd7': 1029, 'Nxa1': 1030, 'Rd6': 1031, 'Kd5': 1032, 'Bxf7+': 1033, 'Rcxd8': 1034, 'Nxh2': 1035, 'fxe4': 1036, 'Qxe7': 1037, 'Kc7': 1038, 'Nh3': 1039, 'Rac8': 1040, 'Qa2+': 1041, 'Bd2+': 1042, 'Nxc2': 1043, 'hxg4+': 1044, 'Rb3': 1045, 'Qxh6+': 1046, 'axb5': 1047, 'bxa5': 1048, 'Qg7+': 1049, 'Rhd4': 1050, 'Rc8+': 1051, 'Qc2': 1052, 'Rh4+': 1053, 'Qh4+': 1054, 'Na6': 1055, 'Qd3+': 1056, 'Nxf1': 1057, 'Nxf4': 1058, 'Rxc6': 1059, 'Kc6': 1060, 'Rc3': 1061, 'cxb2+': 1062, 'h2': 1063, 'Nb3': 1064, 'Bc1': 1065, 'Qxe2+': 1066, 'Nxh5': 1067, 'Bxc2': 1068, 'Bxg4': 1069, 'Ka6': 1070, 'Nxb5': 1071, 'Qxf3+': 1072, 'Rxb5': 1073, 'Qb6+': 1074, 'Bxb5+': 1075, 'Kc3': 1076, 'Bh7': 1077, 'Rg1': 1078, 'Qxf1+': 1079, 'Bxe6': 1080, 'gxh6': 1081, 'Raxb7': 1082, 'Bxh3': 1083, 'Bb7': 1084, 'Bxb4': 1085, 'h6': 1086, 'Bxa3': 1087, 'Re8': 1088, 'Nbxd7': 1089, 'Rxd1+': 1090, 'Bc7': 1091, 'R4d7': 1092, 'Rg8': 1093, 'Rxa3': 1094, 'R4c5': 1095, 'Bxe1+': 1096, 'Qxc8+': 1097, 'e6': 1098, 'Qf5': 1099, 'Kxc4': 1100, 'Qe3': 1101, 'Ra5+': 1102, 'Nxf8': 1103, 'Nfd2': 1104, 'bxc4': 1105, 'Bg2+': 1106, 'Rbd1': 1107, 'Bd8': 1108, 'Rxd4': 1109, 'Rb1': 1110, 'Qxa2': 1111, 'Rxb6': 1112, 'Bxd7+': 1113, 'Qg8': 1114, 'Rh2+': 1115, 'Qe8+': 1116, 'e5+': 1117, 'Nxe4': 1118, 'Rcc1': 1119, 'Nh7+': 1120, 'Rhh4': 1121, 'Rfe3': 1122, 'Kg2': 1123, 'Bh4': 1124, 'Rc1+': 1125, 'Rxd7+': 1126, 'Qxf7': 1127, 'a7': 1128, 'Rd5': 1129, 'Nde5': 1130, 'Nxc5': 1131, 'Nb2': 1132, 'Rxh8': 1133, 'Qxd8': 1134, 'Rf6+': 1135, 'Rab1': 1136, 'Kxh1': 1137, 'Nxg3+': 1138, 'Kg8': 1139, 'Rd1': 1140, 'Rxb3': 1141, 'Rd3+': 1142, 'Rae8': 1143, 'Bd5': 1144, 'Ng1': 1145, 'Kh7': 1146, 'Nb4+': 1147, 'Bxg5': 1148, 'Bxg8': 1149, 'Rxe6+': 1150, 'Nf7': 1151, 'Qb3+': 1152, 'Qxc2': 1153, 'e1=Q+': 1154, 'Qd5+': 1155, 'Qe4': 1156, 'Bxd8': 1157, 'Rf1+': 1158, 'Rg7+': 1159, 'Rd3': 1160, 'Bxc8': 1161, 'Re1': 1162, 'Qe8': 1163, 'Ne2': 1164, 'hxg7+': 1165, 'f2+': 1166, 'Qc6+': 1167, 'Bf4+': 1168, 'Rxf4': 1169, 'Bg3': 1170, 'Qxc6': 1171, 'Bxb7': 1172, 'Qg2+': 1173, 'R6d2+': 1174, 'Qb6': 1175, 'Ne8+': 1176, 'gxf3+': 1177, 'Kxf1': 1178, 'Bc4': 1179, 'Ng6': 1180, 'Nec7': 1181, 'Ke2': 1182, 'Rf7': 1183, 'Bg3+': 1184, 'Nf4': 1185, 'Kxh2': 1186, 'g8=N+': 1187, 'Nexd4': 1188, 'Raf8': 1189, 'Re8+': 1190, 'Re5': 1191, 'Qa4': 1192, 'Nxh1': 1193, 'Rb1+': 1194, 'h1=Q': 1195, 'Bxh5': 1196, 'Rh3': 1197, 'f7': 1198, 'Kf8': 1199, 'Bb5': 1200, 'Rg4': 1201, 'Kxf4': 1202, 'Nh3+': 1203, 'Kxg4': 1204, 'Rf3': 1205}\n"
     ]
    }
   ],
   "source": [
    "import pandas as pd\n",
    "import numpy as np\n",
    "from nltk.tokenize import word_tokenize\n",
    "from nltk.probability import FreqDist\n",
    "from sklearn.model_selection import train_test_split \n",
    "\n",
    "def MostCommonWords(data):\n",
    "\tdata_dist = FreqDist(data)\n",
    "\treturn data_dist\n",
    "\n",
    "def processGames(games, truncate_ply, opening_cats):\n",
    "    data = [games['moves'], games['opening_eco']]\n",
    "    ply = games['opening_ply']\n",
    "    headers = ['moves', 'opening']\n",
    "    data = pd.concat(data, axis=1, keys=headers)\n",
    "    maxPly = 14\n",
    "\n",
    "    for index, row in data.iterrows():\n",
    "        row['opening'] = opening_cats[row['opening'][0]]\n",
    "        ply[index] = ply[index]+1 if (ply[index] % 2 != 0) else ply[index]\n",
    "        moveCount = 0\n",
    "        moves = word_tokenize(row['moves'])\n",
    "        formattedMoves = []\n",
    "        for move in moves:\n",
    "            if(truncate_ply): \n",
    "                if (moveCount >= (ply[index])):\n",
    "                    break\n",
    "            elif (moveCount >= maxPly):\n",
    "                break\n",
    "            if(moveCount%2==0):\n",
    "                # uncomment this top line to use moveCount number in the moves list i.e. 1. d4 e5, 2. ...\n",
    "                # formattedMoves.append(str(int(moveCount/2)+1) + '.' + str(move))\n",
    "                formattedMoves.append(str(move))\n",
    "            else:\n",
    "                formattedMoves[int(moveCount/2)] += ' ' + str(move)\n",
    "            moveCount += 1\n",
    "        row['moves'] = formattedMoves\n",
    "#         row['moves'] = moves\n",
    "\n",
    "    mcw = []\n",
    "    for key in opening_cats:\n",
    "        rows = data.loc[data['opening'] == opening_cats[key]]\n",
    "        # print(key, rows)\n",
    "        moves = []\n",
    "        for index, row in rows.iterrows():\n",
    "            moves += row['moves']\n",
    "        mcw.append(MostCommonWords(moves))\n",
    "    return data, mcw\n",
    "\n",
    "to_exclude = [i for i in range(2, 19800)]# specifies the amount of data to load in (leave list empty to load all data)\n",
    "games = pd.read_csv('games.csv', header=0, encoding='latin-1', skiprows=to_exclude)\n",
    "opening_cats = {'A': 0, 'B': 1, 'C': 2, 'D': 3, 'E': 4}\n",
    "labels = []\n",
    "for index, row in games.iterrows():\n",
    "    labels.append(opening_cats[row['opening_eco'][0]])\n",
    "games = pd.concat([games, pd.DataFrame({'label': labels})], axis=1)\n",
    "headers = list(games.columns.values)\n",
    "\n",
    "X_train, X_test, y_train, y_test = train_test_split(games.to_numpy(), labels, test_size=0.33)\n",
    "X_train = pd.DataFrame(data=X_train, columns=headers)\n",
    "X_test = pd.DataFrame(data=X_test, columns=headers)\n",
    "\n",
    "games, mcw = processGames(X_train, True, opening_cats)\n",
    "test, mcw_test = processGames(X_test, False, opening_cats)\n",
    "\n",
    "dictionary = set()\n",
    "for frqdist in mcw:\n",
    "    dictionary = dictionary.union(set(frqdist.keys()))\n",
    "    \n",
    "move2id = dict()\n",
    "moveCounter = 1\n",
    "for move in dictionary:\n",
    "    move2id[move] = moveCounter\n",
    "    moveCounter += 1\n",
    "print(move2id)"
   ]
  },
  {
   "cell_type": "code",
   "execution_count": null,
   "metadata": {},
   "outputs": [],
   "source": []
  },
  {
   "cell_type": "code",
   "execution_count": null,
   "metadata": {},
   "outputs": [],
   "source": []
  }
 ],
 "metadata": {
  "kernelspec": {
   "display_name": "Python 3",
   "language": "python",
   "name": "python3"
  },
  "language_info": {
   "codemirror_mode": {
    "name": "ipython",
    "version": 3
   },
   "file_extension": ".py",
   "mimetype": "text/x-python",
   "name": "python",
   "nbconvert_exporter": "python",
   "pygments_lexer": "ipython3",
   "version": "3.8.3"
  }
 },
 "nbformat": 4,
 "nbformat_minor": 4
}
