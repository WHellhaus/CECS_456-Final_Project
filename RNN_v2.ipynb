{
 "cells": [
  {
   "cell_type": "code",
   "execution_count": 1,
   "metadata": {},
   "outputs": [],
   "source": [
    "import tensorflow as tf\n",
    "from tensorflow import keras\n",
    "import pandas as pd\n",
    "import numpy as np\n",
    "\n",
    "#returns a pandas dataframe with the data from a specified csv file\n",
    "def loadData(filename):\n",
    "    data = pd.read_csv(filename)\n",
    "    return data\n",
    "\n",
    "#returns one of 13 chess opening subtypes given a specific opening\n",
    "def openType(openStr):\n",
    "    open = openStr[0]\n",
    "    num = int(openStr[1:])\n",
    "    if (openStr[0] == 'A'):\n",
    "        if (num < 40):\n",
    "            open += '00'\n",
    "        elif (num < 45):\n",
    "            open += '40'\n",
    "        elif (num < 50):\n",
    "            open += '45'\n",
    "        elif (num < 80):\n",
    "            open += '50'\n",
    "        else:\n",
    "            open += '80'\n",
    "    if (openStr[0] == 'B'):\n",
    "        if (num < 20):\n",
    "            open += '00'\n",
    "        else:\n",
    "            open += '20'\n",
    "    if (openStr[0] == 'C'):\n",
    "        if (num < 20):\n",
    "            open += '00'\n",
    "        else:\n",
    "            open += '20'\n",
    "    if (openStr[0] == 'D'):\n",
    "        if (num < 70):\n",
    "            open += '00'\n",
    "        else:\n",
    "            open += '70'\n",
    "    if (openStr[0] == 'E'):\n",
    "        if (num < 60):\n",
    "            open += '00'\n",
    "        else:\n",
    "            open += '60'\n",
    "    return open\n",
    "\n",
    "#returns a dataset and labelset from a pandas dataframe\n",
    "#the returned dataset includes the first (openingPly) moves preformed\n",
    "#the returned labelset is the opening subtype defined by the moves preformed in the dataset\n",
    "def dataExtraction(baseData):\n",
    "    data = []\n",
    "    labels = []\n",
    "    \n",
    "    for i in range(len(baseData.index)):\n",
    "        row = baseData.iloc[i, :]\n",
    "        opening = []\n",
    "        moveText = row[12].split()\n",
    "        for j in range(row[15]):\n",
    "            opening.append(moveText[j])\n",
    "        data.append(opening)\n",
    "        labels.append(openType(row[13]))\n",
    "    \n",
    "    return data, labels\n",
    "\n",
    "#returns a numericized version of the input array along with the dictionary used for conversion\n",
    "def numericize(textData):\n",
    "    numericDic = {}\n",
    "    conversion = []\n",
    "    if type(textData[0]) != list:\n",
    "        for label in textData:\n",
    "            if label not in numericDic:\n",
    "                numericDic[label] = len(numericDic) + 1\n",
    "            conversion.append(numericDic[label])\n",
    "    else:\n",
    "        for text in textData:\n",
    "            moveList = []\n",
    "            for move in text:\n",
    "                if move not in numericDic:\n",
    "                    numericDic[move] = len(numericDic) + 1\n",
    "                moveList.append(numericDic[move])\n",
    "            conversion.append(moveList)\n",
    "            \n",
    "    return numericDic, conversion"
   ]
  },
  {
   "cell_type": "code",
   "execution_count": 4,
   "metadata": {},
   "outputs": [],
   "source": [
    "from keras.preprocessing import sequence\n",
    "from sklearn.model_selection import train_test_split\n",
    "\n",
    "data = loadData('games.csv')\n",
    "maxMoves = max(data.iloc[:,15])\n",
    "moves, labels = dataExtraction(data)\n",
    "moveDic, numMoves = numericize(moves)\n",
    "labelDic, numLabels = numericize(labels)\n",
    "\n",
    "numMoves = sequence.pad_sequences(numMoves, maxlen=maxMoves)\n",
    "\n",
    "#builds subsets for testing and training data at an 80-20 split\n",
    "X_train, X_test, y_train, y_test = train_test_split(numMoves, numLabels, test_size=0.2, stratify=numLabels)"
   ]
  },
  {
   "cell_type": "code",
   "execution_count": 5,
   "metadata": {},
   "outputs": [
    {
     "ename": "NameError",
     "evalue": "name 'vocabulary_size' is not defined",
     "output_type": "error",
     "traceback": [
      "\u001b[0;31m---------------------------------------------------------------------------\u001b[0m",
      "\u001b[0;31mNameError\u001b[0m                                 Traceback (most recent call last)",
      "\u001b[0;32m<ipython-input-5-458fb42c56cc>\u001b[0m in \u001b[0;36m<module>\u001b[0;34m\u001b[0m\n\u001b[1;32m      4\u001b[0m \u001b[0membedding_size\u001b[0m\u001b[0;34m=\u001b[0m\u001b[0;36m32\u001b[0m\u001b[0;34m\u001b[0m\u001b[0;34m\u001b[0m\u001b[0m\n\u001b[1;32m      5\u001b[0m \u001b[0mmodel\u001b[0m\u001b[0;34m=\u001b[0m\u001b[0mSequential\u001b[0m\u001b[0;34m(\u001b[0m\u001b[0;34m)\u001b[0m\u001b[0;34m\u001b[0m\u001b[0;34m\u001b[0m\u001b[0m\n\u001b[0;32m----> 6\u001b[0;31m \u001b[0mmodel\u001b[0m\u001b[0;34m.\u001b[0m\u001b[0madd\u001b[0m\u001b[0;34m(\u001b[0m\u001b[0mEmbedding\u001b[0m\u001b[0;34m(\u001b[0m\u001b[0mvocabulary_size\u001b[0m\u001b[0;34m,\u001b[0m \u001b[0membedding_size\u001b[0m\u001b[0;34m,\u001b[0m \u001b[0minput_length\u001b[0m\u001b[0;34m=\u001b[0m\u001b[0mmax_words\u001b[0m\u001b[0;34m)\u001b[0m\u001b[0;34m)\u001b[0m\u001b[0;34m\u001b[0m\u001b[0;34m\u001b[0m\u001b[0m\n\u001b[0m\u001b[1;32m      7\u001b[0m \u001b[0mmodel\u001b[0m\u001b[0;34m.\u001b[0m\u001b[0madd\u001b[0m\u001b[0;34m(\u001b[0m\u001b[0mLSTM\u001b[0m\u001b[0;34m(\u001b[0m\u001b[0;36m100\u001b[0m\u001b[0;34m)\u001b[0m\u001b[0;34m)\u001b[0m\u001b[0;34m\u001b[0m\u001b[0;34m\u001b[0m\u001b[0m\n\u001b[1;32m      8\u001b[0m \u001b[0mmodel\u001b[0m\u001b[0;34m.\u001b[0m\u001b[0madd\u001b[0m\u001b[0;34m(\u001b[0m\u001b[0mDense\u001b[0m\u001b[0;34m(\u001b[0m\u001b[0;36m1\u001b[0m\u001b[0;34m,\u001b[0m \u001b[0mactivation\u001b[0m\u001b[0;34m=\u001b[0m\u001b[0;34m'sigmoid'\u001b[0m\u001b[0;34m)\u001b[0m\u001b[0;34m)\u001b[0m\u001b[0;34m\u001b[0m\u001b[0;34m\u001b[0m\u001b[0m\n",
      "\u001b[0;31mNameError\u001b[0m: name 'vocabulary_size' is not defined"
     ]
    }
   ],
   "source": [
    "from keras import Sequential\n",
    "from keras.layers import Embedding, LSTM, Dense, Dropout\n",
    "\n",
    "embedding_size=32\n",
    "model=Sequential()\n",
    "model.add(Embedding(vocabulary_size, embedding_size, input_length=max_words))\n",
    "model.add(LSTM(100))\n",
    "model.add(Dense(1, activation='sigmoid'))\n",
    "\n",
    "model.compile(loss='binary_crossentropy', optimizer='adam', metrics=['accuracy'])\n",
    "\n",
    "batch_size = 10 #64\n",
    "num_epochs = 2 #3\n",
    "X_valid, y_valid = X_train[:batch_size], y_train[:batch_size]\n",
    "X_train2, y_train2 = X_train[batch_size:], y_train[batch_size:]\n",
    "model.fit(X_train2, y_train2, validation_data=(X_valid, y_valid), batch_size=batch_size, epochs=num_epochs)\n",
    "\n",
    "scores = model.evaluate(X_test, y_test, verbose=0)\n",
    "print('Test accuracy:', scores[1])"
   ]
  },
  {
   "cell_type": "code",
   "execution_count": 5,
   "metadata": {},
   "outputs": [
    {
     "name": "stdout",
     "output_type": "stream",
     "text": [
      "true\n",
      "C00\n"
     ]
    }
   ],
   "source": [
    "if \"this\" in \"whatisthis\":\n",
    "    print(\"true\")\n",
    "print(openType(\"C14\"))"
   ]
  },
  {
   "cell_type": "code",
   "execution_count": null,
   "metadata": {},
   "outputs": [],
   "source": []
  },
  {
   "cell_type": "code",
   "execution_count": null,
   "metadata": {},
   "outputs": [],
   "source": []
  }
 ],
 "metadata": {
  "kernelspec": {
   "display_name": "Python 3",
   "language": "python",
   "name": "python3"
  },
  "language_info": {
   "codemirror_mode": {
    "name": "ipython",
    "version": 3
   },
   "file_extension": ".py",
   "mimetype": "text/x-python",
   "name": "python",
   "nbconvert_exporter": "python",
   "pygments_lexer": "ipython3",
   "version": "3.7.9"
  }
 },
 "nbformat": 4,
 "nbformat_minor": 4
}
